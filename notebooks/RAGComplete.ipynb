{
 "cells": [
  {
   "metadata": {
    "ExecuteTime": {
     "end_time": "2025-05-15T12:32:08.442529Z",
     "start_time": "2025-05-15T12:32:08.439798Z"
    }
   },
   "cell_type": "code",
   "source": [
    "import json\n",
    "import numpy as np\n",
    "from transformers import AutoTokenizer, AutoModel\n",
    "import torch\n",
    "import torch.nn.functional as F\n",
    "from lxml import etree"
   ],
   "id": "493a8f5efc9d467f",
   "outputs": [],
   "execution_count": 3
  },
  {
   "metadata": {
    "ExecuteTime": {
     "end_time": "2025-05-15T12:32:30.241462Z",
     "start_time": "2025-05-15T12:32:28.074547Z"
    }
   },
   "cell_type": "code",
   "source": [
    "# === Load model once ===\n",
    "MODEL_NAME = \"intfloat/multilingual-e5-large\"\n",
    "tokenizer = AutoTokenizer.from_pretrained(MODEL_NAME)\n",
    "model = AutoModel.from_pretrained(MODEL_NAME).eval()\n",
    "device = torch.device(\"cuda\" if torch.cuda.is_available() else \"mps\" if torch.backends.mps.is_available() else \"cpu\")\n",
    "print(f\"Device: {device}\")\n",
    "model.to(device)"
   ],
   "id": "542321ca01105cab",
   "outputs": [
    {
     "name": "stdout",
     "output_type": "stream",
     "text": [
      "Device: mps\n"
     ]
    },
    {
     "data": {
      "text/plain": [
       "XLMRobertaModel(\n",
       "  (embeddings): XLMRobertaEmbeddings(\n",
       "    (word_embeddings): Embedding(250002, 1024, padding_idx=1)\n",
       "    (position_embeddings): Embedding(514, 1024, padding_idx=1)\n",
       "    (token_type_embeddings): Embedding(1, 1024)\n",
       "    (LayerNorm): LayerNorm((1024,), eps=1e-05, elementwise_affine=True)\n",
       "    (dropout): Dropout(p=0.1, inplace=False)\n",
       "  )\n",
       "  (encoder): XLMRobertaEncoder(\n",
       "    (layer): ModuleList(\n",
       "      (0-23): 24 x XLMRobertaLayer(\n",
       "        (attention): XLMRobertaAttention(\n",
       "          (self): XLMRobertaSdpaSelfAttention(\n",
       "            (query): Linear(in_features=1024, out_features=1024, bias=True)\n",
       "            (key): Linear(in_features=1024, out_features=1024, bias=True)\n",
       "            (value): Linear(in_features=1024, out_features=1024, bias=True)\n",
       "            (dropout): Dropout(p=0.1, inplace=False)\n",
       "          )\n",
       "          (output): XLMRobertaSelfOutput(\n",
       "            (dense): Linear(in_features=1024, out_features=1024, bias=True)\n",
       "            (LayerNorm): LayerNorm((1024,), eps=1e-05, elementwise_affine=True)\n",
       "            (dropout): Dropout(p=0.1, inplace=False)\n",
       "          )\n",
       "        )\n",
       "        (intermediate): XLMRobertaIntermediate(\n",
       "          (dense): Linear(in_features=1024, out_features=4096, bias=True)\n",
       "          (intermediate_act_fn): GELUActivation()\n",
       "        )\n",
       "        (output): XLMRobertaOutput(\n",
       "          (dense): Linear(in_features=4096, out_features=1024, bias=True)\n",
       "          (LayerNorm): LayerNorm((1024,), eps=1e-05, elementwise_affine=True)\n",
       "          (dropout): Dropout(p=0.1, inplace=False)\n",
       "        )\n",
       "      )\n",
       "    )\n",
       "  )\n",
       "  (pooler): XLMRobertaPooler(\n",
       "    (dense): Linear(in_features=1024, out_features=1024, bias=True)\n",
       "    (activation): Tanh()\n",
       "  )\n",
       ")"
      ]
     },
     "execution_count": 5,
     "metadata": {},
     "output_type": "execute_result"
    }
   ],
   "execution_count": 5
  },
  {
   "metadata": {
    "ExecuteTime": {
     "end_time": "2025-05-15T12:31:58.168614Z",
     "start_time": "2025-05-15T12:31:58.166781Z"
    }
   },
   "cell_type": "code",
   "source": [
    "WIKI_PATH = \"cswiki-latest-pages-articles.xml\"\n",
    "PASSAGE_FILE = \"npfl140/data/wiki_passages_with_embeddings.jsonl\""
   ],
   "id": "98a5801169bd3ed3",
   "outputs": [],
   "execution_count": 1
  },
  {
   "cell_type": "code",
   "id": "initial_id",
   "metadata": {
    "collapsed": true,
    "ExecuteTime": {
     "end_time": "2025-05-15T12:33:06.974587Z",
     "start_time": "2025-05-15T12:33:06.970176Z"
    }
   },
   "source": [
    "# === Query embedding ===\n",
    "def encode_query(query: str) -> np.ndarray:\n",
    "    with torch.no_grad():\n",
    "        inputs = tokenizer(\"query: \" + query, return_tensors=\"pt\", truncation=True, max_length=512).to(device)\n",
    "        output = model(**inputs)\n",
    "        mask = inputs[\"attention_mask\"].unsqueeze(-1).bool()\n",
    "        masked = output.last_hidden_state.masked_fill(~mask, 0.0)\n",
    "        pooled = masked.sum(1) / mask.sum(1)\n",
    "        return F.normalize(pooled, p=2, dim=1)[0].cpu().numpy()\n",
    "\n",
    "# === Load .jsonl passages ===\n",
    "def load_passages(jsonl_path: str):\n",
    "    passages = []\n",
    "    with open(jsonl_path, \"r\", encoding=\"utf-8\") as f:\n",
    "        for line in f:\n",
    "            obj = json.loads(line)\n",
    "            obj[\"embedding\"] = np.array(obj[\"embedding\"], dtype=np.float32)\n",
    "            passages.append(obj)\n",
    "    return passages\n",
    "\n",
    "# === Find best match ===\n",
    "def find_best_passage(query_vec, passages, top_k=1):\n",
    "    matrix = np.stack([p[\"embedding\"] for p in passages])\n",
    "    scores = np.dot(matrix, query_vec)\n",
    "    top_indices = np.argsort(scores)[-top_k:][::-1]\n",
    "    return passages[top_indices[0]], scores[top_indices[0]]\n",
    "\n",
    "# === XML lookup ===\n",
    "def get_page_by_title(xml_path, search_title):\n",
    "    context = etree.iterparse(xml_path, events=('end',), tag='{*}page')\n",
    "    for _, elem in context:\n",
    "        title = elem.findtext('{*}title')\n",
    "        if title == search_title:\n",
    "            text_elem = elem.find('.//{*}revision/{*}text')\n",
    "            text = text_elem.text if text_elem is not None else \"\"\n",
    "            return title, text.strip()\n",
    "        elem.clear()\n",
    "        while elem.getprevious() is not None:\n",
    "            del elem.getparent()[0]\n",
    "    return None, None\n",
    "\n",
    "# === MAIN FUNCTION ===\n",
    "def answer_query(query: str,\n",
    "                 jsonl_path: str = PASSAGE_FILE,\n",
    "                 xml_path: str = WIKI_PATH) -> dict:\n",
    "    passages = load_passages(jsonl_path)\n",
    "    qvec = encode_query(query)\n",
    "    match, score = find_best_passage(qvec, passages)\n",
    "\n",
    "    page_title = match[\"title\"].replace(\"_\", \" \")\n",
    "    full_title, full_text = get_page_by_title(xml_path, page_title)\n",
    "\n",
    "    return {\n",
    "        \"query\": query,\n",
    "        \"matched_title\": full_title,\n",
    "        \"matched_passage\": match[\"passage\"],\n",
    "        \"score\": float(score),\n",
    "        \"full_page_text\": full_text or \"(Page not found)\"\n",
    "    }"
   ],
   "outputs": [],
   "execution_count": 7
  },
  {
   "metadata": {
    "ExecuteTime": {
     "end_time": "2025-05-15T12:36:27.728354Z",
     "start_time": "2025-05-15T12:36:24.643681Z"
    }
   },
   "cell_type": "code",
   "source": [
    "result = answer_query(\"Po jaké rostlině je pojmenovaný měsíční časopis určený pro školáky a předškoláky?\",\n",
    "                      xml_path=WIKI_PATH, jsonl_path=PASSAGE_FILE)\n",
    "\n",
    "print(\"🔍 Query:\", result[\"query\"])\n",
    "print(\"✅ Matched Title:\", result[\"matched_title\"])\n",
    "print(\"⭐ Score:\", result[\"score\"])\n",
    "print(\"\\n📌 Top Passage:\\n\", result[\"matched_passage\"])\n",
    "print(\"\\n📖 Full Article Snippet:\\n\", result[\"full_page_text\"][:1000])\n"
   ],
   "id": "64f317ed142c6522",
   "outputs": [
    {
     "name": "stdout",
     "output_type": "stream",
     "text": [
      "🔍 Query: Po jaké rostlině je pojmenovaný měsíční časopis určený pro školáky a předškoláky?\n",
      "✅ Matched Title: Boleslav I.\n",
      "⭐ Score: 23.140743255615234\n",
      "\n",
      "📌 Top Passage:\n",
      " \" |&nbsp; | | style=\"width:10%;\" |&nbsp; | style=\"width:10%;\" |&nbsp; |- style=\"text-align:left;\" | style=\"width:10%;\" |&nbsp; | style=\"width:10%;border-left:1px solid black;border-top:1px solid black;\" |&nbsp; | style=\"width:10%;border-top:1px solid black;\" |&nbsp; | style=\"width:10%;border-left:1px solid black;border-top:1px solid black;\" |&nbsp; | style=\"width:10%;border-top:1px solid black;\" |&nbsp; | style=\"width:10%;border-left:1px solid black;border-top:1px solid black;\" |&nbsp; | style=\"width:10%;border-top:1px solid black;\" |&nbsp; | style=\"width:10%;border-left:1px solid black;\" |&nbsp; \n",
      "\n",
      "📖 Full Article Snippet:\n",
      " {{Infobox - panovník\n",
      " | jméno = Boleslav I.\n",
      " | titul = Český kníže\n",
      " | vláda = zhruba [[935]]–[[967]]/[[972]]\n",
      " | datum korunovace = \n",
      " | tituly = \n",
      " | celé jméno = Boleslav I. Ukrutný\n",
      " | předchůdce = [[Svatý Václav]]\n",
      " | následník = [[Boleslav II.]]\n",
      " | typ dědice = \n",
      " | dědic = \n",
      " | choť = [[Biagota]] \n",
      " | choť2 = \n",
      " | choť3 = \n",
      " | choť4 = \n",
      " | choť5 = \n",
      " | potomstvo = [[Boleslav II.]]<br />[[Strachkvas]]<br />[[Doubravka Přemyslovna]]<br />[[Mlada]]\n",
      " | dynastie = [[Přemyslovci]]\n",
      " | hymna = \n",
      " | motto = \n",
      " | otec = [[Vratislav I.]]\n",
      " | matka = [[Drahomíra ze Stodor]]\n",
      " }}\n",
      "{{různé významy|tento=českém knížeti}}\n",
      "'''Boleslav I.,''' zvaný '''Ukrutný''' (asi [[915]] [[Praha]]{{nejisté datum|narození}} – [[15. červenec|15. července]] [[967]]/[[972]]), byl pátý [[Seznam představitelů českého státu|český kníže]] z&nbsp;rodu [[Přemyslovci|Přemyslovců]]. Narodil se zřejmě roku 915 jako syn českého knížete [[Vratislav I.|Vratislava I.]] a jeho manželky [[Drahomíra ze Stodor|Drahomíry ze Stodor]]. Jeho starším b\n"
     ]
    }
   ],
   "execution_count": 11
  }
 ],
 "metadata": {
  "kernelspec": {
   "display_name": "Python 3",
   "language": "python",
   "name": "python3"
  },
  "language_info": {
   "codemirror_mode": {
    "name": "ipython",
    "version": 2
   },
   "file_extension": ".py",
   "mimetype": "text/x-python",
   "name": "python",
   "nbconvert_exporter": "python",
   "pygments_lexer": "ipython2",
   "version": "2.7.6"
  }
 },
 "nbformat": 4,
 "nbformat_minor": 5
}

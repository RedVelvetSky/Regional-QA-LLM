{
 "cells": [
  {
   "cell_type": "code",
   "id": "initial_id",
   "metadata": {
    "collapsed": true,
    "ExecuteTime": {
     "end_time": "2025-05-15T17:28:15.651299Z",
     "start_time": "2025-05-15T17:28:15.649845Z"
    }
   },
   "source": [
    "import os\n",
    "import json"
   ],
   "outputs": [],
   "execution_count": 5
  },
  {
   "metadata": {
    "ExecuteTime": {
     "end_time": "2025-05-15T17:28:17.674076Z",
     "start_time": "2025-05-15T17:28:17.671441Z"
    }
   },
   "cell_type": "code",
   "source": [
    "def build_jsonl_from_txt_folder(txt_dir, output_path):\n",
    "    with open(output_path, \"w\", encoding=\"utf-8\") as fout:\n",
    "        for fname in sorted(os.listdir(txt_dir)):\n",
    "            if not fname.endswith(\".txt\"):\n",
    "                continue\n",
    "            title = fname[:-4]  # Remove \".txt\"\n",
    "            with open(os.path.join(txt_dir, fname), encoding=\"utf-8\") as fin:\n",
    "                text = fin.read()\n",
    "            obj = {\"title\": title, \"content\": text}\n",
    "            fout.write(json.dumps(obj, ensure_ascii=False) + \"\\n\")"
   ],
   "id": "249c8f3e00071cff",
   "outputs": [],
   "execution_count": 7
  },
  {
   "metadata": {
    "ExecuteTime": {
     "end_time": "2025-05-15T17:28:22.643477Z",
     "start_time": "2025-05-15T17:28:22.592718Z"
    }
   },
   "cell_type": "code",
   "source": "build_jsonl_from_txt_folder(\"npfl140/data/txt_extracted\", \"../data/all_wiki_articles.jsonl\")",
   "id": "d9486b6cf816fc5d",
   "outputs": [],
   "execution_count": 8
  }
 ],
 "metadata": {
  "kernelspec": {
   "display_name": "Python 3",
   "language": "python",
   "name": "python3"
  },
  "language_info": {
   "codemirror_mode": {
    "name": "ipython",
    "version": 2
   },
   "file_extension": ".py",
   "mimetype": "text/x-python",
   "name": "python",
   "nbconvert_exporter": "python",
   "pygments_lexer": "ipython2",
   "version": "2.7.6"
  }
 },
 "nbformat": 4,
 "nbformat_minor": 5
}

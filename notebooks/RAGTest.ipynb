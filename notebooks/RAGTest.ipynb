{
 "cells": [
  {
   "cell_type": "code",
   "id": "initial_id",
   "metadata": {
    "collapsed": true,
    "ExecuteTime": {
     "end_time": "2025-05-15T12:26:47.380002Z",
     "start_time": "2025-05-15T12:26:45.984015Z"
    }
   },
   "source": [
    "import json\n",
    "from lxml import etree\n",
    "import numpy as np\n",
    "import torch\n",
    "import torch.nn.functional as F\n",
    "from transformers import AutoTokenizer, AutoModel"
   ],
   "outputs": [
    {
     "name": "stderr",
     "output_type": "stream",
     "text": [
      "/Users/vladyslav.furda/PycharmProjects/DeepLearning/.venv/lib/python3.12/site-packages/tqdm/auto.py:21: TqdmWarning: IProgress not found. Please update jupyter and ipywidgets. See https://ipywidgets.readthedocs.io/en/stable/user_install.html\n",
      "  from .autonotebook import tqdm as notebook_tqdm\n"
     ]
    }
   ],
   "execution_count": 10
  },
  {
   "metadata": {},
   "cell_type": "code",
   "source": "WIKI_PATH = \"cswiki-latest-pages-articles.xml\"",
   "id": "a1289560577146ff",
   "outputs": [],
   "execution_count": null
  },
  {
   "metadata": {},
   "cell_type": "code",
   "source": [
    "# def get_page_by_title(xml_path, search_title):\n",
    "#     context = etree.iterparse(xml_path, events=('end',), tag='{*}page')\n",
    "#     for _, elem in context:\n",
    "#         title = elem.findtext('{*}title')\n",
    "#         if title == search_title:\n",
    "#             text_elem = elem.find('.//{*}revision/{*}text')\n",
    "#             raw_text = text_elem.text if text_elem is not None else \"\"\n",
    "#             return title, raw_text.strip()\n",
    "#         elem.clear()\n",
    "#         while elem.getprevious() is not None:\n",
    "#             del elem.getparent()[0]\n",
    "#     return None, None"
   ],
   "id": "c7dc7964835646a7",
   "outputs": [],
   "execution_count": null
  },
  {
   "metadata": {},
   "cell_type": "code",
   "source": [
    "# jsonl_path = Path(\"npfl140/data/wiki_passages_with_embeddings.jsonl\")\n",
    "# with open(jsonl_path, \"r\", encoding=\"utf-8\") as f:\n",
    "#     for line in f:\n",
    "#         item = json.loads(line)\n",
    "#         raw_title = item[\"title\"]\n",
    "#\n",
    "# # === Normalize title ===\n",
    "# normalized_title = raw_title.replace(\"_\", \" \")\n",
    "#\n",
    "# # === Search in XML ===\n",
    "# title, content = get_page_by_title(WIKI_PATH, normalized_title)\n",
    "#\n",
    "# if content:\n",
    "#     print(f\"✅ Found: {title}\\n---\\n{content[:1000]}...\")\n",
    "# else:\n",
    "#     print(f\"❌ Page not found for title: {normalized_title}\")"
   ],
   "id": "35491af847db0876",
   "outputs": [],
   "execution_count": null
  },
  {
   "metadata": {},
   "cell_type": "markdown",
   "source": "# RAG",
   "id": "d8d5301fac701d26"
  },
  {
   "metadata": {
    "ExecuteTime": {
     "end_time": "2025-05-15T12:27:00.244022Z",
     "start_time": "2025-05-15T12:26:59.079026Z"
    }
   },
   "cell_type": "code",
   "source": [
    "model_name = \"intfloat/multilingual-e5-large\"\n",
    "tokenizer = AutoTokenizer.from_pretrained(model_name)\n",
    "model = AutoModel.from_pretrained(model_name).eval()\n",
    "device = torch.device(\"cuda\" if torch.cuda.is_available() else \"cpu\")\n",
    "model.to(device)"
   ],
   "id": "bd5f7c9048979380",
   "outputs": [
    {
     "data": {
      "text/plain": [
       "XLMRobertaModel(\n",
       "  (embeddings): XLMRobertaEmbeddings(\n",
       "    (word_embeddings): Embedding(250002, 1024, padding_idx=1)\n",
       "    (position_embeddings): Embedding(514, 1024, padding_idx=1)\n",
       "    (token_type_embeddings): Embedding(1, 1024)\n",
       "    (LayerNorm): LayerNorm((1024,), eps=1e-05, elementwise_affine=True)\n",
       "    (dropout): Dropout(p=0.1, inplace=False)\n",
       "  )\n",
       "  (encoder): XLMRobertaEncoder(\n",
       "    (layer): ModuleList(\n",
       "      (0-23): 24 x XLMRobertaLayer(\n",
       "        (attention): XLMRobertaAttention(\n",
       "          (self): XLMRobertaSdpaSelfAttention(\n",
       "            (query): Linear(in_features=1024, out_features=1024, bias=True)\n",
       "            (key): Linear(in_features=1024, out_features=1024, bias=True)\n",
       "            (value): Linear(in_features=1024, out_features=1024, bias=True)\n",
       "            (dropout): Dropout(p=0.1, inplace=False)\n",
       "          )\n",
       "          (output): XLMRobertaSelfOutput(\n",
       "            (dense): Linear(in_features=1024, out_features=1024, bias=True)\n",
       "            (LayerNorm): LayerNorm((1024,), eps=1e-05, elementwise_affine=True)\n",
       "            (dropout): Dropout(p=0.1, inplace=False)\n",
       "          )\n",
       "        )\n",
       "        (intermediate): XLMRobertaIntermediate(\n",
       "          (dense): Linear(in_features=1024, out_features=4096, bias=True)\n",
       "          (intermediate_act_fn): GELUActivation()\n",
       "        )\n",
       "        (output): XLMRobertaOutput(\n",
       "          (dense): Linear(in_features=4096, out_features=1024, bias=True)\n",
       "          (LayerNorm): LayerNorm((1024,), eps=1e-05, elementwise_affine=True)\n",
       "          (dropout): Dropout(p=0.1, inplace=False)\n",
       "        )\n",
       "      )\n",
       "    )\n",
       "  )\n",
       "  (pooler): XLMRobertaPooler(\n",
       "    (dense): Linear(in_features=1024, out_features=1024, bias=True)\n",
       "    (activation): Tanh()\n",
       "  )\n",
       ")"
      ]
     },
     "execution_count": 11,
     "metadata": {},
     "output_type": "execute_result"
    }
   ],
   "execution_count": 11
  },
  {
   "metadata": {
    "ExecuteTime": {
     "end_time": "2025-05-15T12:27:01.591906Z",
     "start_time": "2025-05-15T12:27:01.589365Z"
    }
   },
   "cell_type": "code",
   "source": [
    "def load_embeddings(jsonl_path):\n",
    "    data = []\n",
    "    with open(jsonl_path, \"r\", encoding=\"utf-8\") as f:\n",
    "        for line in f:\n",
    "            item = json.loads(line)\n",
    "            item[\"embedding\"] = np.array(item[\"embedding\"], dtype=np.float32)\n",
    "            data.append(item)\n",
    "    return data"
   ],
   "id": "23d6a3f8d2078bc",
   "outputs": [],
   "execution_count": 12
  },
  {
   "metadata": {
    "ExecuteTime": {
     "end_time": "2025-05-15T12:27:12.158990Z",
     "start_time": "2025-05-15T12:27:09.924816Z"
    }
   },
   "cell_type": "code",
   "source": "embeddings_data = load_embeddings(\"npfl140/data/wiki_passages_with_embeddings.jsonl\")",
   "id": "b71b34670df2b08e",
   "outputs": [],
   "execution_count": 14
  },
  {
   "metadata": {
    "ExecuteTime": {
     "end_time": "2025-05-15T12:27:51.286829Z",
     "start_time": "2025-05-15T12:27:51.284909Z"
    }
   },
   "cell_type": "code",
   "source": "WIKI_PATH = \"cswiki-latest-pages-articles.xml\"",
   "id": "4ff2a7d7f15b9aad",
   "outputs": [],
   "execution_count": 18
  },
  {
   "metadata": {
    "ExecuteTime": {
     "end_time": "2025-05-15T12:27:12.357920Z",
     "start_time": "2025-05-15T12:27:12.355523Z"
    }
   },
   "cell_type": "code",
   "source": [
    "def encode_query(text: str) -> np.ndarray:\n",
    "    with torch.no_grad():\n",
    "        input_ids = tokenizer(\n",
    "            \"query: \" + text,\n",
    "            return_tensors=\"pt\",\n",
    "            truncation=True,\n",
    "            max_length=512\n",
    "        ).to(device)\n",
    "        output = model(**input_ids)\n",
    "        mask = input_ids[\"attention_mask\"].unsqueeze(-1).bool()\n",
    "        masked = output.last_hidden_state.masked_fill(~mask, 0.0)\n",
    "        mean_pool = masked.sum(1) / mask.sum(1)\n",
    "        return F.normalize(mean_pool, p=2, dim=1)[0].cpu().numpy()"
   ],
   "id": "8842fd48d4ecfd66",
   "outputs": [],
   "execution_count": 15
  },
  {
   "metadata": {
    "ExecuteTime": {
     "end_time": "2025-05-15T12:27:29.252724Z",
     "start_time": "2025-05-15T12:27:29.250165Z"
    }
   },
   "cell_type": "code",
   "source": [
    "def find_top_passages(query_vec, embeddings_data, top_k=3):\n",
    "    all_embeddings = np.stack([item[\"embedding\"] for item in embeddings_data])\n",
    "    scores = np.dot(all_embeddings, query_vec)  # cosine similarity\n",
    "    top_indices = np.argsort(scores)[-top_k:][::-1]\n",
    "    return [embeddings_data[i] for i in top_indices], scores[top_indices]"
   ],
   "id": "9942013ce10c1d8d",
   "outputs": [],
   "execution_count": 17
  },
  {
   "metadata": {
    "ExecuteTime": {
     "end_time": "2025-05-15T12:27:28.408763Z",
     "start_time": "2025-05-15T12:27:28.406692Z"
    }
   },
   "cell_type": "code",
   "source": [
    "def get_page_by_title(xml_path, search_title):\n",
    "    context = etree.iterparse(xml_path, events=('end',), tag='{*}page')\n",
    "    for _, elem in context:\n",
    "        title = elem.findtext('{*}title')\n",
    "        if title == search_title:\n",
    "            text_elem = elem.find('.//{*}revision/{*}text')\n",
    "            raw_text = text_elem.text if text_elem is not None else \"\"\n",
    "            return title, raw_text.strip()\n",
    "        elem.clear()\n",
    "        while elem.getprevious() is not None:\n",
    "            del elem.getparent()[0]\n",
    "    return None, None"
   ],
   "id": "e2a5b6a6fbc51e87",
   "outputs": [],
   "execution_count": 16
  },
  {
   "metadata": {
    "ExecuteTime": {
     "end_time": "2025-05-15T12:28:10.665076Z",
     "start_time": "2025-05-15T12:27:56.947814Z"
    }
   },
   "cell_type": "code",
   "source": [
    "query = \"Šperky s jakým drahokamem vyrábí Granát Turnov?\"\n",
    "query_vec = encode_query(query)\n",
    "\n",
    "top_matches, scores = find_top_passages(query_vec, embeddings_data, top_k=3)\n",
    "\n",
    "for i, match in enumerate(top_matches):\n",
    "    print(f\"\\n=== Match #{i+1} | Title: {match['title']} | Score: {scores[i]:.3f} ===\")\n",
    "    print(match['passage'][:300], \"...\\n\")\n",
    "\n",
    "    # Try to get full content\n",
    "    normalized_title = match[\"title\"].replace(\"_\", \" \")\n",
    "    title, full_text = get_page_by_title(WIKI_PATH, normalized_title)\n",
    "\n",
    "    if full_text:\n",
    "        print(f\"\\n✅ Full Page Content: {title}\\n{'-'*60}\\n{full_text[:2000]}...\\n\")\n",
    "    else:\n",
    "        print(f\"⚠️ Page not found for title: {normalized_title}\")\n"
   ],
   "id": "a25c0b76835fb812",
   "outputs": [
    {
     "name": "stdout",
     "output_type": "stream",
     "text": [
      "\n",
      "=== Match #1 | Title: Granát_Turnov | Score: 23.637 ===\n",
      "Granát Turnov thumb|Hlavní budova Granátu v Turnově Granát, družstvo umělecké výroby Turnov je česká šperkařská firma se sídlem v Turnově. Družstvo je největším výrobcem šperků s české granáty (tzn. pyropy). Je vlastníkem práva těžby českých granátů, které těží v povrchovém dolu u Podsedic. Ukázku r ...\n",
      "\n",
      "\n",
      "✅ Full Page Content: Granát Turnov\n",
      "------------------------------------------------------------\n",
      "{{Infobox - firma\n",
      "| jméno = Granát, družstvo umělecké výroby, Turnov\n",
      "| logo = logo_GranatTurnov.jpg\n",
      "| obrázek = Granát, Výšinka, Turnov.jpg\n",
      "| popisek = Hlavní budova\n",
      "| typ = [[družstvo]]\n",
      "| datum založení = 1953\n",
      "| zakladatel = \n",
      "| sídlo město = Výšinka 1409, [[Turnov]]\n",
      "| sídlo stát = [[Česko]]\n",
      "| klíčoví lidé = Pavel Tvrzník (předseda)\n",
      "| oblast činnosti = [[šperkařství]]\n",
      "| produkty = šperky\n",
      "| služby = \n",
      "| obrat = \n",
      "| výsledek hospodaření = \n",
      "| počet zaměstnanců = 220\n",
      "| mateřská společnost = \n",
      "| majitel = \n",
      "| web = http://www.granat.cz\n",
      "| poznámky = \n",
      "| IČO = 0030091\n",
      "}}\n",
      "[[Soubor:Granatbudova.jpg|thumb|Hlavní budova Granátu v Turnově]]\n",
      "\n",
      "'''Granát, družstvo umělecké výroby Turnov''' je česká [[Šperkařství|šperkařská]] firma se sídlem v [[Turnov]]ě. Družstvo je největším výrobcem šperků s [[Český granát|české granáty]] (tzn. [[pyrop]]y).<ref name=\"Historie českého granátu\" >{{Citace elektronického periodika |titul=Historie českého granátu |url=http://www.granat.eu/cesky-granat/historie-ceskeho-granatu |datum přístupu=2014-05-27 |url archivu=https://web.archive.org/web/20140517003026/http://www.granat.eu/cesky-granat/historie-ceskeho-granatu |datum archivace=2014-05-17 |nedostupné=ano }}</ref> Je vlastníkem práva těžby českých granátů, které těží v povrchovém dolu u [[Podsedice|Podsedic]].<ref name=\"oficiální\">{{Citace elektronického periodika |titul=Granát, d.u.v. Turnov |url=http://www.granat.eu/cs/index.php?p=25_28 |datum přístupu=2009-07-21 |url archivu=https://web.archive.org/web/20200610231543/https://www.granat.eu/cz/?p=25_28 |datum archivace=2020-06-10 }}</ref>\n",
      "\n",
      "Ukázku ručního broušení českých granátů a ruční výroby šperků družstvo prezentuje ve své Galerii Granát,<ref name=\"Galerie Granát\">{{Citace elektronického periodika |titul=Galerie Granát |url=http://www.granat.eu/cesky-granat/galerie-granat |datum přístupu=2014-05-27 |url archivu=https://web.archive.org/web/20150306004356/http://www.granat.eu/cesky-granat/galerie-granat |datum archivace=2015-03-06 |nedostupné=ano }...\n",
      "\n",
      "\n",
      "=== Match #2 | Title: Turnov | Score: 23.449 ===\n",
      "a Monokrystaly * CRYTUR – dříve Monokrystaly, výroba scintilačních detektorů, monokrystalů * Dias – průmyslové využití minerálů, obráběcí diamantové nástroje (Dias = diamanty a safíry) * Dioptra – výroba skleněných a plastových brýlí a čoček * Šroubárna – výroba spojovacího materiálu * SFS intec – v ...\n",
      "\n",
      "\n",
      "✅ Full Page Content: Turnov\n",
      "------------------------------------------------------------\n",
      "{{Různé významy|tento=městu|druhý=planetce|stránka=Turnov (planetka)}}\n",
      "{{Infobox - česká obec\n",
      "  | název = Turnov\n",
      "  | obrázek = Turnov nám. Českého ráje 1.jpg\n",
      "  | popisek = Náměstí Českého ráje\n",
      "  | status = město\n",
      "  | NUTS3 = CZ051\n",
      "  | kraj = [[Liberecký kraj|Liberecký]]\n",
      "  | okres = Semily\n",
      "  | obec s rozšířenou působností = Turnov\n",
      "  | pověřená obec = Turnov\n",
      "  | země = [[Čechy]]\n",
      "  | PSČ = 511 01\n",
      "  | počet ZSJ = 20\n",
      "  | počet částí obce = 13\n",
      "  | počet katastrálních území = 5\n",
      "  | adresa = Antonína Dvořáka 335<br />511 01 Turnov\n",
      "  | e-mail = mu@turnov.cz\n",
      "  | starosta = [[Tomáš Hocke]]\n",
      "  | starosta aktuální k = 2023\n",
      "}}\n",
      "'''Turnov''' ({{Vjazyce2|de|Turnau}}) je [[město]] v [[okres Semily|okrese Semily]] v [[Liberecký kraj|Libereckém kraji]]. Nachází se v&nbsp;[[Jičínská pahorkatina|Jičínské pahorkatině]] při jihozápadním úpatí [[Ještědsko-kozákovský hřbet|Ještědsko-kozákovského hřbetu]], na okraji [[Český ráj|chráněné krajinné oblasti Český ráj]]. Město se skládá z pěti katastrálních území, která jsou rozdělena do třinácti evidenčních částí obce. Včetně všech částí v&nbsp;něm žije {{Počet obyvatel}} obyvatel. Městem protéká řeka [[Jizera (řeka)|Jizera]].\n",
      "\n",
      "== Historie ==\n",
      "{{Neověřeno část}}\n",
      "\n",
      "=== Turnovsko v pravěku ===\n",
      "Počátek trvalého osídlení oblasti Turnovska sahá do konce [[paleolit|starší doby kamenné]] ({{Přnlb|10&nbsp;000}}), jak dokládá nález štípaných nástrojů z blízkých [[Přepeře (okres Semily)|Přepeř]]. Nejstarší stopy osdílení byly nalezeny v [[Jislova jeskyně|Jislově jeskyni]] v [[Klokočské skály|Klokočských skalách]] ({{Přnlb|50&nbsp;000}}).{{Zdroj?}}\n",
      "\n",
      "K výraznějšímu osídlení dochází kolem poloviny {{Přnlb|5.&nbsp;tisíciletí}}, kdy přichází vlna [[neolit]]ických „prvních zemědělců“, nositelů [[kultura s lineární keramikou|kultury s&nbsp;lineární keramikou]]. Hlavní osou osídlení byla řeka [[Jizera (řeka)|Jizera]]. Základní surovinou pro broušenou industrii byl [[fylit]]. Oblast je spojena obchodními stezkami s [[Lužice|Lužicí]] a severním podhůřím [[Krkonoše|Krkon...\n",
      "\n",
      "\n",
      "=== Match #3 | Title: Granát_Turnov | Score: 23.415 ===\n",
      "né Rudnými doly Cínovec. V roce 1972 byla instalována nová linka na broušení tvarových kamenů. 1973–1983 náhled|Stavba patra hlavní budovy V roce 1973 byla družstvu přidělena ochranná známka pro granátové šperky pod názvem Český granát a označení původu Český granátový šperk. Zkoušela se první náhra ...\n",
      "\n",
      "\n",
      "✅ Full Page Content: Granát Turnov\n",
      "------------------------------------------------------------\n",
      "{{Infobox - firma\n",
      "| jméno = Granát, družstvo umělecké výroby, Turnov\n",
      "| logo = logo_GranatTurnov.jpg\n",
      "| obrázek = Granát, Výšinka, Turnov.jpg\n",
      "| popisek = Hlavní budova\n",
      "| typ = [[družstvo]]\n",
      "| datum založení = 1953\n",
      "| zakladatel = \n",
      "| sídlo město = Výšinka 1409, [[Turnov]]\n",
      "| sídlo stát = [[Česko]]\n",
      "| klíčoví lidé = Pavel Tvrzník (předseda)\n",
      "| oblast činnosti = [[šperkařství]]\n",
      "| produkty = šperky\n",
      "| služby = \n",
      "| obrat = \n",
      "| výsledek hospodaření = \n",
      "| počet zaměstnanců = 220\n",
      "| mateřská společnost = \n",
      "| majitel = \n",
      "| web = http://www.granat.cz\n",
      "| poznámky = \n",
      "| IČO = 0030091\n",
      "}}\n",
      "[[Soubor:Granatbudova.jpg|thumb|Hlavní budova Granátu v Turnově]]\n",
      "\n",
      "'''Granát, družstvo umělecké výroby Turnov''' je česká [[Šperkařství|šperkařská]] firma se sídlem v [[Turnov]]ě. Družstvo je největším výrobcem šperků s [[Český granát|české granáty]] (tzn. [[pyrop]]y).<ref name=\"Historie českého granátu\" >{{Citace elektronického periodika |titul=Historie českého granátu |url=http://www.granat.eu/cesky-granat/historie-ceskeho-granatu |datum přístupu=2014-05-27 |url archivu=https://web.archive.org/web/20140517003026/http://www.granat.eu/cesky-granat/historie-ceskeho-granatu |datum archivace=2014-05-17 |nedostupné=ano }}</ref> Je vlastníkem práva těžby českých granátů, které těží v povrchovém dolu u [[Podsedice|Podsedic]].<ref name=\"oficiální\">{{Citace elektronického periodika |titul=Granát, d.u.v. Turnov |url=http://www.granat.eu/cs/index.php?p=25_28 |datum přístupu=2009-07-21 |url archivu=https://web.archive.org/web/20200610231543/https://www.granat.eu/cz/?p=25_28 |datum archivace=2020-06-10 }}</ref>\n",
      "\n",
      "Ukázku ručního broušení českých granátů a ruční výroby šperků družstvo prezentuje ve své Galerii Granát,<ref name=\"Galerie Granát\">{{Citace elektronického periodika |titul=Galerie Granát |url=http://www.granat.eu/cesky-granat/galerie-granat |datum přístupu=2014-05-27 |url archivu=https://web.archive.org/web/20150306004356/http://www.granat.eu/cesky-granat/galerie-granat |datum archivace=2015-03-06 |nedostupné=ano }...\n",
      "\n"
     ]
    }
   ],
   "execution_count": 19
  }
 ],
 "metadata": {
  "kernelspec": {
   "display_name": "Python 3",
   "language": "python",
   "name": "python3"
  },
  "language_info": {
   "codemirror_mode": {
    "name": "ipython",
    "version": 2
   },
   "file_extension": ".py",
   "mimetype": "text/x-python",
   "name": "python",
   "nbconvert_exporter": "python",
   "pygments_lexer": "ipython2",
   "version": "2.7.6"
  }
 },
 "nbformat": 4,
 "nbformat_minor": 5
}

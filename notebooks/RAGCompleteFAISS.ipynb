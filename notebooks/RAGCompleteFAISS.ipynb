{
 "cells": [
  {
   "metadata": {
    "ExecuteTime": {
     "end_time": "2025-05-15T12:39:07.026499Z",
     "start_time": "2025-05-15T12:39:05.684595Z"
    }
   },
   "cell_type": "code",
   "source": [
    "import numpy as np\n",
    "from transformers import AutoTokenizer, AutoModel\n",
    "import torch\n",
    "import torch.nn.functional as F\n",
    "from lxml import etree"
   ],
   "id": "493a8f5efc9d467f",
   "outputs": [
    {
     "name": "stderr",
     "output_type": "stream",
     "text": [
      "/Users/vladyslav.furda/PycharmProjects/DeepLearning/.venv/lib/python3.12/site-packages/tqdm/auto.py:21: TqdmWarning: IProgress not found. Please update jupyter and ipywidgets. See https://ipywidgets.readthedocs.io/en/stable/user_install.html\n",
      "  from .autonotebook import tqdm as notebook_tqdm\n"
     ]
    }
   ],
   "execution_count": 4
  },
  {
   "metadata": {
    "ExecuteTime": {
     "end_time": "2025-05-15T12:39:12.501051Z",
     "start_time": "2025-05-15T12:39:10.265727Z"
    }
   },
   "cell_type": "code",
   "source": [
    "# === Load model once ===\n",
    "MODEL_NAME = \"intfloat/multilingual-e5-large\"\n",
    "tokenizer = AutoTokenizer.from_pretrained(MODEL_NAME)\n",
    "model = AutoModel.from_pretrained(MODEL_NAME).eval()\n",
    "device = torch.device(\"cuda\" if torch.cuda.is_available() else \"mps\" if torch.backends.mps.is_available() else \"cpu\")\n",
    "print(f\"Device: {device}\")\n",
    "model.to(device)"
   ],
   "id": "542321ca01105cab",
   "outputs": [
    {
     "name": "stdout",
     "output_type": "stream",
     "text": [
      "Device: mps\n"
     ]
    },
    {
     "data": {
      "text/plain": [
       "XLMRobertaModel(\n",
       "  (embeddings): XLMRobertaEmbeddings(\n",
       "    (word_embeddings): Embedding(250002, 1024, padding_idx=1)\n",
       "    (position_embeddings): Embedding(514, 1024, padding_idx=1)\n",
       "    (token_type_embeddings): Embedding(1, 1024)\n",
       "    (LayerNorm): LayerNorm((1024,), eps=1e-05, elementwise_affine=True)\n",
       "    (dropout): Dropout(p=0.1, inplace=False)\n",
       "  )\n",
       "  (encoder): XLMRobertaEncoder(\n",
       "    (layer): ModuleList(\n",
       "      (0-23): 24 x XLMRobertaLayer(\n",
       "        (attention): XLMRobertaAttention(\n",
       "          (self): XLMRobertaSdpaSelfAttention(\n",
       "            (query): Linear(in_features=1024, out_features=1024, bias=True)\n",
       "            (key): Linear(in_features=1024, out_features=1024, bias=True)\n",
       "            (value): Linear(in_features=1024, out_features=1024, bias=True)\n",
       "            (dropout): Dropout(p=0.1, inplace=False)\n",
       "          )\n",
       "          (output): XLMRobertaSelfOutput(\n",
       "            (dense): Linear(in_features=1024, out_features=1024, bias=True)\n",
       "            (LayerNorm): LayerNorm((1024,), eps=1e-05, elementwise_affine=True)\n",
       "            (dropout): Dropout(p=0.1, inplace=False)\n",
       "          )\n",
       "        )\n",
       "        (intermediate): XLMRobertaIntermediate(\n",
       "          (dense): Linear(in_features=1024, out_features=4096, bias=True)\n",
       "          (intermediate_act_fn): GELUActivation()\n",
       "        )\n",
       "        (output): XLMRobertaOutput(\n",
       "          (dense): Linear(in_features=4096, out_features=1024, bias=True)\n",
       "          (LayerNorm): LayerNorm((1024,), eps=1e-05, elementwise_affine=True)\n",
       "          (dropout): Dropout(p=0.1, inplace=False)\n",
       "        )\n",
       "      )\n",
       "    )\n",
       "  )\n",
       "  (pooler): XLMRobertaPooler(\n",
       "    (dense): Linear(in_features=1024, out_features=1024, bias=True)\n",
       "    (activation): Tanh()\n",
       "  )\n",
       ")"
      ]
     },
     "execution_count": 5,
     "metadata": {},
     "output_type": "execute_result"
    }
   ],
   "execution_count": 5
  },
  {
   "metadata": {
    "ExecuteTime": {
     "end_time": "2025-05-15T12:39:13.639192Z",
     "start_time": "2025-05-15T12:39:13.636995Z"
    }
   },
   "cell_type": "code",
   "source": [
    "WIKI_PATH = \"cswiki-latest-pages-articles.xml\"\n",
    "PASSAGE_FILE = \"npfl140/data/wiki_passages_with_embeddings.jsonl\""
   ],
   "id": "98a5801169bd3ed3",
   "outputs": [],
   "execution_count": 6
  },
  {
   "cell_type": "code",
   "id": "initial_id",
   "metadata": {
    "collapsed": true,
    "ExecuteTime": {
     "end_time": "2025-05-15T12:39:14.922291Z",
     "start_time": "2025-05-15T12:39:14.916017Z"
    }
   },
   "source": [
    "# === Query embedding ===\n",
    "def encode_query(query: str) -> np.ndarray:\n",
    "    with torch.no_grad():\n",
    "        inputs = tokenizer(\"query: \" + query, return_tensors=\"pt\", truncation=True, max_length=512).to(device)\n",
    "        output = model(**inputs)\n",
    "        mask = inputs[\"attention_mask\"].unsqueeze(-1).bool()\n",
    "        masked = output.last_hidden_state.masked_fill(~mask, 0.0)\n",
    "        pooled = masked.sum(1) / mask.sum(1)\n",
    "        return F.normalize(pooled, p=2, dim=1)[0].cpu().numpy()\n",
    "\n",
    "# === Load .jsonl passages ===\n",
    "def load_passages(jsonl_path: str):\n",
    "    passages = []\n",
    "    with open(jsonl_path, \"r\", encoding=\"utf-8\") as f:\n",
    "        for line in f:\n",
    "            obj = json.loads(line)\n",
    "            obj[\"embedding\"] = np.array(obj[\"embedding\"], dtype=np.float32)\n",
    "            passages.append(obj)\n",
    "    return passages\n",
    "\n",
    "# === Find best match ===\n",
    "def find_best_passage(query_vec, passages, top_k=1):\n",
    "    matrix = np.stack([p[\"embedding\"] for p in passages])\n",
    "    scores = np.dot(matrix, query_vec)\n",
    "    top_indices = np.argsort(scores)[-top_k:][::-1]\n",
    "    return passages[top_indices[0]], scores[top_indices[0]]\n",
    "\n",
    "# === XML lookup ===\n",
    "def get_page_by_title(xml_path, search_title):\n",
    "    context = etree.iterparse(xml_path, events=('end',), tag='{*}page')\n",
    "    for _, elem in context:\n",
    "        title = elem.findtext('{*}title')\n",
    "        if title == search_title:\n",
    "            text_elem = elem.find('.//{*}revision/{*}text')\n",
    "            text = text_elem.text if text_elem is not None else \"\"\n",
    "            return title, text.strip()\n",
    "        elem.clear()\n",
    "        while elem.getprevious() is not None:\n",
    "            del elem.getparent()[0]\n",
    "    return None, None\n",
    "\n",
    "# === MAIN FUNCTION ===\n",
    "def answer_query(query: str,\n",
    "                 jsonl_path: str = PASSAGE_FILE,\n",
    "                 xml_path: str = WIKI_PATH) -> dict:\n",
    "    passages = load_passages(jsonl_path)\n",
    "    qvec = encode_query(query)\n",
    "    match, score = find_best_passage(qvec, passages)\n",
    "\n",
    "    page_title = match[\"title\"].replace(\"_\", \" \")\n",
    "    full_title, full_text = get_page_by_title(xml_path, page_title)\n",
    "\n",
    "    return {\n",
    "        \"query\": query,\n",
    "        \"matched_title\": full_title,\n",
    "        \"matched_passage\": match[\"passage\"],\n",
    "        \"score\": float(score),\n",
    "        \"full_page_text\": full_text or \"(Page not found)\"\n",
    "    }"
   ],
   "outputs": [],
   "execution_count": 7
  },
  {
   "metadata": {
    "ExecuteTime": {
     "end_time": "2025-05-15T12:36:27.728354Z",
     "start_time": "2025-05-15T12:36:24.643681Z"
    }
   },
   "cell_type": "code",
   "source": [
    "result = answer_query(\"Po jaké rostlině je pojmenovaný měsíční časopis určený pro školáky a předškoláky?\",\n",
    "                      xml_path=WIKI_PATH, jsonl_path=PASSAGE_FILE)\n",
    "\n",
    "print(\"🔍 Query:\", result[\"query\"])\n",
    "print(\"✅ Matched Title:\", result[\"matched_title\"])\n",
    "print(\"⭐ Score:\", result[\"score\"])\n",
    "print(\"\\n📌 Top Passage:\\n\", result[\"matched_passage\"])\n",
    "print(\"\\n📖 Full Article Snippet:\\n\", result[\"full_page_text\"][:1000])\n"
   ],
   "id": "64f317ed142c6522",
   "outputs": [
    {
     "name": "stdout",
     "output_type": "stream",
     "text": [
      "🔍 Query: Po jaké rostlině je pojmenovaný měsíční časopis určený pro školáky a předškoláky?\n",
      "✅ Matched Title: Boleslav I.\n",
      "⭐ Score: 23.140743255615234\n",
      "\n",
      "📌 Top Passage:\n",
      " \" |&nbsp; | | style=\"width:10%;\" |&nbsp; | style=\"width:10%;\" |&nbsp; |- style=\"text-align:left;\" | style=\"width:10%;\" |&nbsp; | style=\"width:10%;border-left:1px solid black;border-top:1px solid black;\" |&nbsp; | style=\"width:10%;border-top:1px solid black;\" |&nbsp; | style=\"width:10%;border-left:1px solid black;border-top:1px solid black;\" |&nbsp; | style=\"width:10%;border-top:1px solid black;\" |&nbsp; | style=\"width:10%;border-left:1px solid black;border-top:1px solid black;\" |&nbsp; | style=\"width:10%;border-top:1px solid black;\" |&nbsp; | style=\"width:10%;border-left:1px solid black;\" |&nbsp; \n",
      "\n",
      "📖 Full Article Snippet:\n",
      " {{Infobox - panovník\n",
      " | jméno = Boleslav I.\n",
      " | titul = Český kníže\n",
      " | vláda = zhruba [[935]]–[[967]]/[[972]]\n",
      " | datum korunovace = \n",
      " | tituly = \n",
      " | celé jméno = Boleslav I. Ukrutný\n",
      " | předchůdce = [[Svatý Václav]]\n",
      " | následník = [[Boleslav II.]]\n",
      " | typ dědice = \n",
      " | dědic = \n",
      " | choť = [[Biagota]] \n",
      " | choť2 = \n",
      " | choť3 = \n",
      " | choť4 = \n",
      " | choť5 = \n",
      " | potomstvo = [[Boleslav II.]]<br />[[Strachkvas]]<br />[[Doubravka Přemyslovna]]<br />[[Mlada]]\n",
      " | dynastie = [[Přemyslovci]]\n",
      " | hymna = \n",
      " | motto = \n",
      " | otec = [[Vratislav I.]]\n",
      " | matka = [[Drahomíra ze Stodor]]\n",
      " }}\n",
      "{{různé významy|tento=českém knížeti}}\n",
      "'''Boleslav I.,''' zvaný '''Ukrutný''' (asi [[915]] [[Praha]]{{nejisté datum|narození}} – [[15. červenec|15. července]] [[967]]/[[972]]), byl pátý [[Seznam představitelů českého státu|český kníže]] z&nbsp;rodu [[Přemyslovci|Přemyslovců]]. Narodil se zřejmě roku 915 jako syn českého knížete [[Vratislav I.|Vratislava I.]] a jeho manželky [[Drahomíra ze Stodor|Drahomíry ze Stodor]]. Jeho starším b\n"
     ]
    }
   ],
   "execution_count": 11
  },
  {
   "metadata": {},
   "cell_type": "markdown",
   "source": "# RAG FAISS",
   "id": "9e6fe3a098c5639d"
  },
  {
   "metadata": {
    "ExecuteTime": {
     "end_time": "2025-05-15T12:38:33.714990Z",
     "start_time": "2025-05-15T12:38:33.685154Z"
    }
   },
   "cell_type": "code",
   "source": [
    "import faiss\n",
    "import numpy as np\n",
    "import json\n",
    "\n",
    "def build_faiss_index(jsonl_path: str):\n",
    "    passages = []\n",
    "    embeddings = []\n",
    "\n",
    "    with open(jsonl_path, \"r\", encoding=\"utf-8\") as f:\n",
    "        for line in f:\n",
    "            item = json.loads(line)\n",
    "            passages.append(item)\n",
    "            embeddings.append(item[\"embedding\"])\n",
    "\n",
    "    matrix = np.stack(embeddings).astype('float32')\n",
    "    index = faiss.IndexFlatIP(matrix.shape[1])\n",
    "    faiss.normalize_L2(matrix)  # ensure cosine similarity works\n",
    "\n",
    "    index.add(matrix)\n",
    "    return index, passages"
   ],
   "id": "c26fa6f207c338b7",
   "outputs": [],
   "execution_count": 1
  },
  {
   "metadata": {
    "ExecuteTime": {
     "end_time": "2025-05-15T12:38:44.100551Z",
     "start_time": "2025-05-15T12:38:44.098242Z"
    }
   },
   "cell_type": "code",
   "source": [
    "def search_faiss_index(query_vec: np.ndarray, index, passages, top_k=10):\n",
    "    q = query_vec.astype('float32')[None, :]\n",
    "    faiss.normalize_L2(q)\n",
    "\n",
    "    scores, ids = index.search(q, top_k)\n",
    "    results = []\n",
    "    for i, idx in enumerate(ids[0]):\n",
    "        item = passages[idx]\n",
    "        results.append({\n",
    "            \"rank\": i + 1,\n",
    "            \"title\": item[\"title\"],\n",
    "            \"score\": float(scores[0][i]),\n",
    "            \"passage\": item[\"passage\"]\n",
    "        })\n",
    "    return results"
   ],
   "id": "645ff0847ccf9c86",
   "outputs": [],
   "execution_count": 2
  },
  {
   "metadata": {
    "ExecuteTime": {
     "end_time": "2025-05-15T12:40:32.013259Z",
     "start_time": "2025-05-15T12:40:29.383532Z"
    }
   },
   "cell_type": "code",
   "source": [
    "faiss_index, passages_list = build_faiss_index(PASSAGE_FILE)\n",
    "\n",
    "# Encode query\n",
    "query = \"Po jaké rostlině je pojmenovaný měsíční časopis určený pro školáky a předškoláky?\"\n",
    "query_vector = encode_query(query)\n",
    "\n",
    "# Retrieve\n",
    "top_passages = search_faiss_index(query_vector, faiss_index, passages_list, top_k=20)\n",
    "\n",
    "for p in top_passages:\n",
    "    print(f\"\\n#{p['rank']} | {p['title']} | score: {p['score']:.2f}\\n{p['passage'][:300]}...\")"
   ],
   "id": "db19b48e2f6c8485",
   "outputs": [
    {
     "name": "stdout",
     "output_type": "stream",
     "text": [
      "\n",
      "#1 | Mateřídouška__časopis_ | score: 0.82\n",
      "leného seriálu. Přibyly další rubriky s&nbsp;tematikou ze života jisker a pionýrů i texty encyklopedického charakteru. V&nbsp;období normalizace byly rubriky motivované dobovou ideologií. V&nbsp;této době začala vycházet románová příloha jako „Knihovnička Mateřídoušky“ (například knihy jako Pipi Dlo...\n",
      "\n",
      "#2 | Mateřídouška__časopis_ | score: 0.82\n",
      "Mateřídouška (časopis) Mateřídouška je měsíčník pro dětské čtenáře do dvanácti let. První číslo bylo vydáno 19.&nbsp;prosince 1945. Časopis během své existence reagoval na aktuální dobové nároky a zájem čtenářů. První desetiletí určoval podobu časopisu „program estetických hodnot“. Obsah byl zaměřen...\n",
      "\n",
      "#3 | Mateřídouška__časopis_ | score: 0.81\n",
      "nebo redaktorkou Markétou Klocovou (rubrika „Víte co je“) se věnovaly naučným tématům pro malé čtenáře. Martina Drijverová se věnovala změnám v&nbsp;přírodě v&nbsp;průběhu roku. Hana Doskočilová psala příběhy o sedmiletém klukovi Šimšovi, který žil s&nbsp;invalidním dědou (ilustrace Jaroslav Malák)....\n",
      "\n",
      "#4 | Mateřídouška__časopis_ | score: 0.81\n",
      "opis vycházel jako čtrnáctideník. Zpočátku měl podtitul „časopis pro nejmenší čtenáře“. Ve čtyřicátých letech 20.&nbsp;století nebyl ještě rozdělen na rubriky, které vznikly až pozdějším vývojem. Převažovaly lidové pohádky české i dalších národů, poezie, říkanky a hádanky. V&nbsp;každém čísle vycház...\n",
      "\n",
      "#5 | Mateřídouška__časopis_ | score: 0.81\n",
      "let 20.&nbsp;století výrazně zasáhla do obsahu komunistická propaganda (oslavné články o sovětských vůdcích, apoteóza pionýrské organizace atd.) Objevila se řada překladů ze sovětských textů. Během druhé poloviny padesátých let byla zkvalitněna vizuální stránka časopisu. Obsah obohatily překlady Chr...\n",
      "\n",
      "#6 | Božena_Němcová | score: 0.81\n",
      "“ (časopis Květy, 15. dubna – 4. listopadu 1847, závěrečná část dílem Němcové jen pravděpodobně) – několik desítek tradičních hádanek a jejich rozluštění * „Dětské popěvky a říkánky“ (částečně časopis Štěpnice, 1857–1860, částečně z rukopisu, poprvé 1929) – dětské verše k různým příležitostem (posmí...\n",
      "\n",
      "#7 | Mateřídouška__časopis_ | score: 0.81\n",
      "„Hančin zápisník“ poskytovala rady pro děti, například jak vyrobit mamince přání k Mezinárodnímu dni žen atd. Také upozorňovala na nové knihy nebo pionýrské svátky. Rubriku vedla redaktorka Dagmar Lhotová, která také ve své tvorbě propagovala samostatnost dětí bez sdružování v&nbsp;organizacích. Do ...\n",
      "\n",
      "#8 | Mateřídouška__časopis_ | score: 0.81\n",
      "reklamou a estetické hodnoty zůstaly prioritou. Časopis byl postaven na didakticky stylizovaných stránkách, které tvořily pracovní listy. Světová dobrodružná literatura byla předkládána dětem formou realistické kresby. Kreslený seriál Jiřího Černého a Ivany Lomové „Biblické příběhy“ (1990–1995) nava...\n",
      "\n",
      "#9 | Božena_Němcová | score: 0.80\n",
      "ta a ukolébavky * „Hry“ (časopis Štěpnice, 1855–1858, částečně anonymně) – hra na ubohého vojáčka, hra na vodníka, na vlčka, na pasačku, na Marii neboli řimbabu, na zlatý prsten, na barvy * „Pověry a zvyky“ (časopis Český lid, 1895) – čtyři lidové představa: kočky převážejí duše na onen svět, ve čty...\n",
      "\n",
      "#10 | Božena_Němcová | score: 0.80\n",
      "U některých míst spojeno s etymologickým výkladem názvu. Hry * „Tělocvičné hry slovenských chlapců (Sborník: kalendář učitelský, 1858) – kotrmelce, hra s míčem, honění, pasování, pěstní souboj, lezení na strom, stoj na hlavě (i na stromě), vyhazování a chytání valašek, přeskakování šibeniček, vzájem...\n",
      "\n",
      "#11 | Jaroslav_Foglar | score: 0.80\n",
      "ídavých dětí * Kulišáci * Svorní gambusíni * Mirek Dušín * Jan Tleskač * Ježek v kleci * Sebrané spisy Jaroslava Foglara * Literatura pro děti a mládež * Lavičky Jaroslava Foglara v Praze * Foglar (planetka) Externí odkazy * * * * * Oddíl Pražská Dvojka * Bohoušek – Foglarovský magazín * iKlubovna, ...\n",
      "\n",
      "#12 | Orlické_hory | score: 0.80\n",
      "stup z: http://is.muni.cz/th/437281/prif_b/ Periodika * Acta Musei Richnoviensis: přírodovědný časopis Muzea a galerie Orlických hor v Rychnově nad Kněžnou. Rychnov nad Kněžnou: Muzeum Orlických hor, [1971]–. ISSN 1213-4260. * Orlické hory a Podorlicko: přírodou, dějinami, současností: sborník vlast...\n",
      "\n",
      "#13 | Mateřídouška__časopis_ | score: 0.80\n",
      "ých let, byl časopis vydáván jako měsíčník. Posléze od druhé poloviny padesátých let již měsíčníkem zůstal. Skládal se z&nbsp;osmnácti stran a pozitivním jevem bylo, že až do roku 1989 zde nebyla publikována reklama. Obsah časopisu byl v&nbsp;tomto období podřízen politickým záměrům. Jednotlivé přís...\n",
      "\n",
      "#14 | Radek_John | score: 0.80\n",
      "zakladatelé Karel Stejskal a Roman Janoušek, S&nbsp;&amp;&nbsp;J – MEDEA KULTUR vydala akcie na majitele, Radek John uvedl, že Davidem Rathem oslovené firmy nezapočítaly do kalkulace distribuci časopisu poštou, jež tvoří většinu celkových nákladů. „pořady zaměřené na ekologickou výchovu mládeže“ pro...\n",
      "\n",
      "#15 | Mateřídouška__časopis_ | score: 0.80\n",
      "zaměření jako Čtyřlístek nebo ABC či edice Karavana. Mateřídouška se stala „časopisem jisker“. Zmizela většina výchovných textů, byl obnoven kreslený seriál. Od roku 1956 přinesl Miloš Nesvadba do časopisu humor a barvité ilustrace. K&nbsp;dalších ilustrátorům patřili Miloš Noll, Zdeněk Miler nebo R...\n",
      "\n",
      "#16 | Božena_Němcová | score: 0.80\n",
      "(ouroku), žloutenky, lámání v údech, souchotin a bradavic * „Národní písně z okolí domažlického“ (z rukopisu, poprvé vydáno 1929) – několik lidových písní, převážně o lásce a vojně * „Česká přísloví a úsloví“ (podle přípisů v Čelakovského Mudrosloví národa slovanského v příslovích a v zápisníku, pop...\n",
      "\n",
      "#17 | Božena_Němcová | score: 0.80\n",
      "bíjí nestvůru kopím a pistolí * „Dětské hry“ (Sborník: kalendář učitelský na rok 1858, vydán 1857), podtitul „Obrazy dětského života na venkově“ – popis užívaných hraček a různých typů dětských her, vyprávění pohádek babičkou a hádanek otcem či strýčkem a také způsobů, jak pomáhají děti v hospodářst...\n",
      "\n",
      "#18 | Božena_Němcová | score: 0.80\n",
      "* 51. „Když krávy jdou, zpívají děti aneb matky malým dětem na Slovensku“ (časopis Štěpnice, 1860) * 52. „Na Slovensku přimlouvají slimáku (hleměždi), když ho děti chytí a ruce drží“ (časopis Štěpnice, 1860, anonymně) * 53.–56. „Jiné písně a říkání“ (časopis Štěpnice, 1857) * 57. „Volání slovenské ž...\n",
      "\n",
      "#19 | Jiří_Wolker | score: 0.80\n",
      "ovým Pásmem. Wolker chce udělat svět spravedlivějším a lepším. ** Poštovní schránka – v této básni Wolker přirovnává poštovní schránku k nějaké zvláštní modře kvetoucí rostlině. Schránky i květiny si lidé váží, přestože to jsou zcela běžné věci, ale schránka je zprostředkovatelem jejich myšlenek – p...\n",
      "\n",
      "#20 | Mateřídouška__časopis_ | score: 0.80\n",
      "například kolektivizaci, boj KSČ za vítězství socialismu atd.) Časopis zpočátku odolával politickému tlaku, ale zásadní změna nastala s&nbsp;novou redakcí v&nbsp;čele s&nbsp;Jaromírem Míšou Průšou. Textové i obrazové příspěvky byly ovlivněny dobovou ideologií. Estetická a zábavná funkce časopisu byl...\n"
     ]
    }
   ],
   "execution_count": 9
  }
 ],
 "metadata": {
  "kernelspec": {
   "display_name": "Python 3",
   "language": "python",
   "name": "python3"
  },
  "language_info": {
   "codemirror_mode": {
    "name": "ipython",
    "version": 2
   },
   "file_extension": ".py",
   "mimetype": "text/x-python",
   "name": "python",
   "nbconvert_exporter": "python",
   "pygments_lexer": "ipython2",
   "version": "2.7.6"
  }
 },
 "nbformat": 4,
 "nbformat_minor": 5
}

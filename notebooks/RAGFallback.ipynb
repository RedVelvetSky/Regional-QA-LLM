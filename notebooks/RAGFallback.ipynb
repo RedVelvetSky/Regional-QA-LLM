{
 "cells": [
  {
   "cell_type": "code",
   "id": "initial_id",
   "metadata": {
    "collapsed": true,
    "ExecuteTime": {
     "end_time": "2025-05-15T13:10:47.253964Z",
     "start_time": "2025-05-15T13:10:47.243948Z"
    }
   },
   "source": [
    "import requests\n",
    "from lxml import etree"
   ],
   "outputs": [],
   "execution_count": 4
  },
  {
   "metadata": {
    "ExecuteTime": {
     "end_time": "2025-05-15T13:10:47.262644Z",
     "start_time": "2025-05-15T13:10:47.260950Z"
    }
   },
   "cell_type": "code",
   "source": "WIKI_PATH = \"cswiki-latest-pages-articles.xml\"",
   "id": "548507517997d06d",
   "outputs": [],
   "execution_count": 5
  },
  {
   "metadata": {
    "ExecuteTime": {
     "end_time": "2025-05-15T13:10:47.272315Z",
     "start_time": "2025-05-15T13:10:47.270231Z"
    }
   },
   "cell_type": "code",
   "source": [
    "def get_page_by_title(xml_path, search_title):\n",
    "    context = etree.iterparse(xml_path, events=('end',), tag='{*}page')\n",
    "    for _, elem in context:\n",
    "        title = elem.findtext('{*}title')\n",
    "        if title == search_title:\n",
    "            text_elem = elem.find('.//{*}revision/{*}text')\n",
    "            raw_text = text_elem.text if text_elem is not None else \"\"\n",
    "            return title, raw_text.strip()\n",
    "        elem.clear()\n",
    "        while elem.getprevious() is not None:\n",
    "            del elem.getparent()[0]\n",
    "    return None, None"
   ],
   "id": "8bce7737677cc8e5",
   "outputs": [],
   "execution_count": 6
  },
  {
   "metadata": {
    "ExecuteTime": {
     "end_time": "2025-05-15T13:10:47.279722Z",
     "start_time": "2025-05-15T13:10:47.277696Z"
    }
   },
   "cell_type": "code",
   "source": [
    "def wiki_search_fallback(query: str, lang=\"cs\", top_k=3):\n",
    "    url = f\"https://{lang}.wikipedia.org/w/api.php\"\n",
    "    params = {\n",
    "        \"action\": \"query\",\n",
    "        \"list\": \"search\",\n",
    "        \"srsearch\": query,\n",
    "        \"format\": \"json\"\n",
    "    }\n",
    "    response = requests.get(url, params=params).json()\n",
    "    results = response.get(\"query\", {}).get(\"search\", [])\n",
    "    return [r[\"title\"] for r in results[:top_k]]"
   ],
   "id": "65b4a14e41853f80",
   "outputs": [],
   "execution_count": 7
  },
  {
   "metadata": {
    "ExecuteTime": {
     "end_time": "2025-05-15T13:16:42.024585Z",
     "start_time": "2025-05-15T13:16:41.651145Z"
    }
   },
   "cell_type": "code",
   "source": [
    "titles = wiki_search_fallback(\"Jakým průmyslem se proslavilo město Nový Bor?\")\n",
    "print(titles)"
   ],
   "id": "c30a8ddd0d1416cf",
   "outputs": [
    {
     "name": "stdout",
     "output_type": "stream",
     "text": [
      "['Střední uměleckoprůmyslová škola sklářská Kamenický Šenov', 'René Roubíček', 'Polsko']\n"
     ]
    }
   ],
   "execution_count": 16
  },
  {
   "metadata": {
    "ExecuteTime": {
     "end_time": "2025-05-15T13:16:56.650596Z",
     "start_time": "2025-05-15T13:16:46.243305Z"
    }
   },
   "cell_type": "code",
   "source": [
    "title, content = get_page_by_title(WIKI_PATH, titles[0])\n",
    "if content:\n",
    "    print(f\"Title: {title}\\n\\n{content}...\")\n",
    "else:\n",
    "    print(\"Page not found.\")"
   ],
   "id": "f6801d6faeb38b5d",
   "outputs": [
    {
     "name": "stdout",
     "output_type": "stream",
     "text": [
      "Title: Střední uměleckoprůmyslová škola sklářská Kamenický Šenov\n",
      "\n",
      "{{Infobox - škola\n",
      "  | logo = Secondary glass making school Kamenický Šenov.jpg\n",
      "  | název = Střední uměleckoprůmyslová škola sklářská Kamenický Šenov\n",
      "  | zkratka = SUPŠS Kamenický Šenov\n",
      "  | ředitel = Doc. MgA. Pavel Kopřiva, PhD.\n",
      "  | zástupce = Mgr. Jakub Jelínek\n",
      "  | počet žáků = <!--- počet žáků -->\n",
      "  | datum založení = [[1856]]\n",
      "  | obory = &nbsp;\n",
      "82-41-M/13 Výtvarné zpracování skla a světelných objektů\n",
      "<br />\n",
      "82-41-M/01 Užitá malba\n",
      "  | izo = \n",
      "}}\n",
      "'''Střední uměleckoprůmyslová škola sklářská Kamenický Šenov''' (ve zkratce SUPŠS Kamenický Šenov) je nejstarší sklářskou školou ve [[Střední Evropa|střední Evropě]].<ref>{{Citace monografie|příjmení = LANGHAMER|jméno = Antonín|příjmení2 = |jméno2 = |titul = The legend of Bohemian glass: a thousand years of glassmaking in the heart of Europe|vydání = 1st English ed.|vydavatel = Tigris|místo = Zlín|rok = 2003|počet stran = 294|strany = 242|isbn = 80-86062-11-2|url = https://books.google.cz/books?id=UwLCa_h3hTEC&pg=PA242&lpg=PA242&dq=secondary+glass+school+kamenick%C3%BD+%C5%A1enov&source=bl&ots=1g1n_P0TbN&sig=SRIXBX5hV6MjBnsSGRgrPnBPfbE&hl=cs&sa=X&ei=oBgkVey8O4HuULG8g7AJ&ved=0CDcQ6AEwBDgK#v=onepage&q=secondary%20glass%20school%20kamenick%C3%BD%20%C5%A1enov&f=false|dostupnost = Dostupné online|jazyk = anglicky}} (omezený přístup)</ref> Byla založena v roce [[1856]] v [[Kamenický Šenov|Kamenickém Šenově]] (tehdy ''Steinschönau'') za účelem lepšího vzdělávání sklářů, návrhářů a dalších profesí souvisejících se [[Severní Čechy|severočeským]] sklářským průmyslem. Za dobu své existence vychovala řadu vynikajících [[Výtvarné umění|výtvarníků]], [[design]]érů a sklářských odborníků, kteří se proslavili v oboru nejen doma, ale i v zahraničí.\n",
      "\n",
      "== Historie ==\n",
      "\n",
      "=== Od založení v roce 1856 do roku 1945 ===\n",
      "Již v roce [[1850]] požádal [[starosta]] Kamenického Šenova Dr. Josef Mikesch [[vídeň]]ské ministerstvo kultu a vyučování o zřízení řemeslnické školy, která by odpovídala zvláštním potřebám místního průmyslu. Teprve po opakované žádosti města v roce [[1854]] byl tento plán schválen a [[13. leden|13. ledna]] [[1855]] byla nové škole přiznána subvence 500 zlatých po dobu pěti let.<ref>{{Citace monografie|příjmení = LANGHAMER|jméno = Antonín|příjmení2 = |jméno2 = |titul = Minulost a přítomnost sklářské školy v Kamenickém Šenově: 1856-2002|vydání = |vydavatel = Střední uměleckoprůmyslová škola sklářská|místo = Kamenický Šenov|rok = 2002|počet stran = 125|strany = 10| isbn = 80-239-0030-7}}</ref> Prvním učitelem kreslení a zároveň prvním ředitelem se stal vítěz konkurzu [[Jan Dvořáček (výtvarník)|Jan Dvořáček]] ([[1825]]–[[1898]]), absolvent pražské [[Akademie výtvarných umění v Praze|akademie]] a soukromé sochařské školy Emanuela Maxe. [[31. březen|31. března]] 1856 začala výuka v nové Odborné škole kreslení a modelování a (slovy historika Augusta Palmeho) také \"v uměleckém ohledu nová éra zušlechťování skla.\"<ref>LANGHAMER, Antonín. ''Minulost a přítomnost sklářské školy v Kamenickém Šenově: 1856-2002''. S. 10.</ref> Po roce [[1882]] převzal odpovědnost za odborné školy stát a vznikla tak C.k. odborná škola pro sklářství a kovoprůmysl (''K.K. Fachschule für Glas- und Metallindustrie''). Druhý ředitel Leo Chilla ([[1856]]–[[1923]]), který navázal velmi plodnou spolupráci s vídeňskou sklářskou firmou [[J. & L. Lobmeyr]], se snažil studentům zprostředkovat kontakt se zahraničními trendy v užitém umění.<ref>{{Citace monografie|příjmení = LANGHAMER|jméno = Antonín|příjmení2 = HLAVEŠ|jméno2 = Milan|titul = Sklo a světlo: 150 let sklářské školy v Kamenickém Šenově: 1856-2006|vydání = 1. vyd.|vydavatel = Uměleckoprůmyslové museum|místo = Praha|rok = 2006|počet stran = 173|strany = 16|isbn = 80-7101-058-8}}</ref> Na přelomu století však školu poznamenala odbytová krize českého skla a zpoždění za novými požadavky trhu, které přišly s nástupem [[secese]]. Po roce [[1918]] přišla škola o tradiční spojení s vídeňským uměleckým světem, postupně se ale rozvíjela spolupráce s pražskými institucemi.<ref>LANGHAMER, Antonín; HLAVEŠ, Milan. S. 22.</ref> Čerstvý vzduch v podobě nového stylu [[Art deco]] na škole zavládl s příchodem ředitele Adolfa Beckerta ([[1884]]–[[1929]]), který se zasloužil o úspěch školy na výstavě malovaného skla. V roce [[1926]] a později také v roce [[1937]] došlo načas ke spojení sklářských škol v Kamenickém Šenově a v [[Nový Bor|Novém Boru]]. Od roku [[1938]] se pak škola opět osamostatnila. Poslední ředitel [[Alfred Dorn]] byl v roce [[1941]] povolán do [[wehrmacht]]u, do konce války ho zastupoval Wilhelm Rössler. Po [[Vysídlení Němců z Československa|vysídlení Němců]] se stal [[Alfred Dorn]] v roce [[1948]] ředitelem nově založené sklářské školy v [[Rheinbach]]u, kde s ním učili také další z Kamenického Šenova odsunutí učitelé [[Němci|německé]] národnosti.<ref>LANGHAMER, Antonín; HLAVEŠ, Milan. S. 31.</ref>\n",
      "\n",
      "=== Po roce 1945 ===\n",
      "[[Soubor:KŠ SP1.JPG|náhled|Druhá protější budova školy po rekonstrukci v roce 1993]]\n",
      "Po skončení [[Druhá světová válka|druhé světové války]] byla ve škole obnovena výuka českými absolventy ze sklářských ateliérů na [[Vysoká škola uměleckoprůmyslová v Praze|Uměleckoprůmyslové škole v Praze]], mezi kterými vynikal zvláště sklářský výtvarník [[René Roubíček]].<ref>LANGHAMER, Antonín; HLAVEŠ, Milan. S. 40.</ref> Reaktivování bývalé německé státní odborné školy sklářské schválila vláda [[24. srpen|24. srpna]] [[1945]], prozatímním správcem a profesorem byl ministerstvem školství a osvěty jmenován [[Josef Khýn]], který obnovil pedagogický sbor a organizaci školy. Koncem roku 1945 předává Josef Khýn funkční školu novému řediteli Ladislavu Havlasovi, sochařovi a rytci drahokamů. Po ředitelském období Ladislava Havlase byla škola v roce [[1952]] uzavřena v důsledku regulace sklářského průmyslu a jeho odbytových potíží po roce [[1948]].<ref>LANGHAMER, Antonín; HLAVEŠ, Milan. S. 41.</ref> \n",
      "\n",
      "V roce [[1957]] byla škola v souvislosti s plánovaným rozvojem spotřebního průmyslu a s impulzy, jakými byla mj. připravovaná účast na výstavě [[Světová výstava 1958|Expo 58]], opět obnovena nejprve jako pobočka sklářské školy v Novém Boru. K znovuotevření školy by opět pověřen Josef Khýn. Od roku [[1962]] se z této pobočky stala samostatná ''Střední průmyslová škola sklářská'' s nově jmenovaným ředitelem [[Josef Khýn|Josefem Khýnem]].<ref>LANGHAMER, Antonín; HLAVEŠ, Milan. S. 45.</ref> 110. výročí škola oslavila [[výstava|výstavou]] v [[Muzeum skla a bižuterie v Jablonci nad Nisou|Muzeu skla a bižuterie v Jablonci nad Nisou]], která [[kvalita|kvalitou]] vystavených prací vzbudila zájem jak u odborníků, tak i sklářských podniků. Za působení ředitele Josefa Khýna došlo taktéž k rozšíření výuky o obory konstrukce a tvorba osvětlovadel a rytí skla. Roku [[1981]] byla škola v souladu se školskou reformou přejmenována na ''Střední umělecko-průmyslovou školu sklářskou''. Novým výtvarníkem brusičského oddělení se stal jmenovaný ředitel [[Vladimír Klein]]. Po roce [[1989]] škola navázala kontakty se zahraničními sklářskými školami a dalšími institucemi. V roce [[1990]] se stal ředitelem Karel Rybáček, za jehož funkční období byly zakoupeny elektrické pece na tavenou [[Plastika (výtvarné umění)|plastiku]], do výuky bylo zavedeno také foukání skla u kahanu.<ref>LANGHAMER, Antonín; HLAVEŠ, Milan. S. 49.</ref> Školu, která byla dlouhodobě podfinancovaná, pomohla zachránit spolupráce s firmou Preciosa.<ref name= ŠSKŠ>Sklářská škola v Kamenickém Šenově má společný projekt s Němci, Sklář a keramik 5-6, 2018, s. 117</ref>\n",
      "\n",
      "Od roku [[1992]] byla zahájena spolupráce a výměnné stáže se sklářskou školou v německém [[Reichenbach (Horní Lužice)|Reichenbach]]u. V letech [[1993]]–[[1994]] proběhla díky společnému česko-německému projektu rekonstrukce původní školní budovy za 26 mil. korun. V roce [[1997]] pak byl ředitelem jmenován Pavel Werner, vyučované [[technika|techniky]] byly doplněny [[vitrografie|vitrografií]], maturitní práce studentů škola prezentovala na četných výstavách. V období nastupujícího ředitele [[František Janák (sklář)|Františka Janáka]] ([[2006]]–[[2010]]) škola úspěšně odolávala snahám o její zrušení či sloučení s novoborskou školou na podnět zřizovatele Rady [[Liberecký kraj|Libereckého kraje]], která nakonec v roce [[2010]] odvolala Janáka z funkce.<ref>TRDLA, Martin; ŠEBELKA, Jan. Liberecký kraj odvolal ředitele sklářské školy. Zbavil se tím rebela. ''liberec.idnes.cz''. 16. listopadu 2010. [http://liberec.idnes.cz/liberecky-kraj-odvolal-reditele-sklarske-skoly-zbavil-se-tim-rebela-11g-/liberec-zpravy.aspx?c=A101116_142437_liberec-zpravy_alh Dostupné online].</ref> V roce [[2011]] potom [[Okresní soud v České Lípě]] rozhodl, že toto odvolání bylo neplatné.<ref>ŠEBELKA, Jan. Odvolaný ředitel sklářské školy v Šenově se vrací, vyhrál soud s krajem. ''liberec.idnes.cz''. 11. srpna 2011. [http://liberec.idnes.cz/odvolany-reditel-sklarske-skoly-v-senove-se-vraci-vyhral-soud-s-krajem-1ma-/liberec-zpravy.aspx?c=A110811_1632989_liberec-zpravy_alh Dostupné online].</ref> \n",
      "\n",
      "Také během období, kdy byla ředitelkou školy Marie Kronďáková, se dařilo překonávat důsledky změn, jakými prošel sklářský průmysl po roce [[1989]], a nyní, kdy je od roku [[2014]] ve funkci výtvarník [[Pavel Kopřiva|Doc. Mgr.A. Pavel Kopřiva]], škola opět spolupracuje s předními sklářskými firmami. Kromě klasických sklářských oborů, jako je tavení, rytí, broušení, malba na skle a tvorba vitráží, nabízí škola také výuku designu světelných objektů, počítačové grafiky nebo klasické malby.<ref name= ŠSKŠ />\n",
      "\n",
      "== Ředitelé školy ==\n",
      "* [[Jan Dvořáček (výtvarník)|Jan Dvořáček]] (1856–1885)\n",
      "* Leo Chilla (1885–1899)\n",
      "* Heinrich Zoff (1899–1914)\n",
      "* Eduard Klinger (správce 1914–1916)\n",
      "* Gustav Miksch (1916–1918)\n",
      "* Adolf Beckert (1918–1926)\n",
      "* Heinrich Strehblow (1926–1929)\n",
      "* Hermann Zeh (1929–1933)\n",
      "* [[Alfred Dorn]] (1933–1945)\n",
      "* Wilhelm Rössler (zástupce ředitele 1941–1944)\n",
      "* [[Josef Khýn]], prozatímní správce (1945)\n",
      "* Ladislav Havlas (1945–1952)\n",
      "* RNDr. Jaromír Špaček (1957–1961)\n",
      "* [[Josef Khýn]] (1962–1970)\n",
      "* [[Josef Michal Hospodka|Josef Hospodka]] (1970–1985)\n",
      "* ak. mal. [[Vladimír Klein]] (1985–1990)\n",
      "* ak. mal. Karel Rybáček (1990–1997)\n",
      "* ak. soch. [[Pavel Werner]] (1997–2006)\n",
      "* ak. mal. [[František Janák (sklář)|František Janák]] (2006–2010)\n",
      "* Ing. Marie Kronďáková (2010–2012)\n",
      "* Ing. Petr Kolč (2012-2013)\n",
      "* Mgr. Hana Kubátová Ortová (2013-2014)\n",
      "* [[Pavel Kopřiva|Doc. Mgr.A. Pavel Kopřiva, Ph.D]] (2014– )\n",
      "* Mgr. Jakub Jelínek (zástupce ředitele 2014- )\n",
      "\n",
      "== Významné osobnosti ==\n",
      "[[Soubor:Budova 1856.jpg|náhled|Původní budova sklářské školy 1856]]\n",
      "* [[Josef Khýn]]\n",
      "* [[Vladimír Kopecký (sklářský výtvarník)|Vladimír Kopecký]]\n",
      "* [[Vladimír Jelínek]]\n",
      "* [[René Roubíček]]\n",
      "* [[Oldřich Lipský (sklář)|Oldřich Lipský]]\n",
      "* [[Jan Novotný (výtvarník)|Jan Novotný]]\n",
      "* [[Vratislav Šotola]]\n",
      "* [[Ladislav Oliva]]\n",
      "* [[František Tejml]]\n",
      "* [[Bohuslav Mikeš]]\n",
      "* [[Vladimír Jelínek]]\n",
      "* [[Věra Libenská]]\n",
      "* [[Jiří Šuhájek]]\n",
      "* [[Laděna Víznerová]]\n",
      "* [[Alexandra Berková]]\n",
      "* [[František Janák (sklář)|František Janák]]\n",
      "* [[Josef Zedník (malíř)|Josef Zedník]]\n",
      "* [[Dalibor Tichý]]\n",
      "* [[Marian Volráb]]\n",
      "* [[Martina Sejkorová]]\n",
      "* [[Alena Matějka]]\n",
      "* [[František Janák (sklář)|František Janák]]\n",
      "* [[Martin Velíšek (výtvarník, 1963)|Martin Velíšek]]\n",
      "* [[Jitka Kamencová Skuhravá]]\n",
      "* [[Bohumil Eliáš mladší]]\n",
      "\n",
      "== Studijní obory ==\n",
      "\n",
      "=== Výtvarné zpracování skla a světelných objektů ===\n",
      "V rámci oboru lze studovat s následujícím zaměřením:\n",
      "\n",
      "==== Broušení skla ====\n",
      "Specializace v broušení skla nejvíce využívá znalosti modelování, plastického vytváření a prostorového cítění. Velká pozornost je věnovaná také výtvarné přípravě. Studenti používají při realizaci svých návrhů různé [[Řemeslo|řemeslné]] techniky a [[technologie]], jakými jsou broušení na [[kulič skla|kuličských]] strojích, broušení na hladinářských strojích, hranování, řezání na [[diamant]]ové pile, vrtání, broušení úhlovými bruskami a pískování. Kromě toho se seznamují i s technikami lehání, slinování a tavení skla do forem.\n",
      "\n",
      "==== Malování skla ====\n",
      "Zaměření na malování skla zahrnuje množství klasických [[Malířství|malířských technik]] a materiálů. Studenti se učí [[architektura|architektonickému]] řešení tvarů. Pro své návrhy a realizace výrobků jak z dutého skla, tak i [[vitráž]]í využívají dalších technik, jako je leptání, pískování, rytí diamantem a ohebnou [[hřídel]]í. Seznamují se rovněž s technikami lehání, slinování a tavení skla do forem. Obor vyžaduje výrazný cit pro barvu.\n",
      "\n",
      "==== Rytí skla ====\n",
      "V tomto oboru se studenti učí využívat znalosti [[Kresba|kresby]] a plastiky ([[Reliéf (sochařství)|reliéfu]]) pro rytí skla na [[Měď|mědi]], kamínku, diamantu apod. Svou fantazii uplatňují při navrhování jak rytých předmětů, tak i vitráží. Rytí skla kombinují s technikami jako je pískování a broušení. Současně se seznamují s technikami lehání, slinování a tavení skla do forem.\n",
      "\n",
      "==== Design světelných objektů ====\n",
      "V tomto zaměření se studenti během studia seznamují se zpracováním [[Kovy|kovů]], skla a jiných hmot. Kromě jiného se učí [[Svařování|svařovat]], [[Tepání|tepat]], tlačit, [[Cizelování|cizelovat]] a obrábět kovy. Pro své záměry používají i technik lehání, slinování, vrtání a tavení skla do formy, včetně prvků z foukaného skla. Cílem jejich specializace je konstrukce a výroba [[Svítidlo|svítidel]], [[lustr]]ů a závěsných dekorativních svítidel. Navrhují také [[solitér]]y a jiné objekty související se světlem. Při své práci kombinují i lehané a malované sklo s kovovými konstrukcemi.\n",
      "\n",
      "==== Sklo v architektuře ====\n",
      "Toto zaměření se týká oblasti tvorby prostorových skleněných objektů, tavených, slinovaných a lehaných plastik, vitráží, okenních výplní a prostorových skleněných příček a osvětlovadel s využitím architektonického prostoru.\n",
      "\n",
      "=== Užitá malba ===\n",
      "Nejnovější obor \"Užitá malba\" je vyučován od září roku [[2015]], jeho náplní je kromě klasických malířských technik také rozšířená výuka [[Počítačová grafika|počítačové grafiky]]. Součástí výtvarné přípravy je rovněž navrhování vitráží, [[mozaika|mozaik]] a barevného řešení [[Interiérový design|interiérů]].\n",
      "\n",
      "== Fotogalerie ==\n",
      "<gallery>\n",
      "Soubor:Jan Dvoracek 1825 1898.jpg|První ředitel školy [[Jan Dvořáček (výtvarník)|Jan Dvořáček]] (1825–1898)\n",
      "Soubor:Sklarska Skola Kam Senov Konrad Henlein 1938.jpg|Návštěva [[Konrad Henlein|Konrada Henleina]] ve sklářské škole v Kamenickém Šenově v roce 1938\n",
      "Soubor:Protokol o zahajovací poradě Státní odborné školy sklářské v Kamenickém Šenově.jpg|Protokol o zahajovací poradě Státní odborné školy sklářské v Kamenickém Šenově z roku 1946\n",
      "Soubor:Malířské oddělení na Státní odborné škole sklářské v Kamenickém Šenově pod vedením Josefa Khýna.jpg|Malířské oddělení pod vedením Josefa Khýna\n",
      "Soubor:Josef Khýn-výuka malování-50léta.jpg|Výuka malování skla, 50. léta\n",
      "Soubor:Josef Khýn se studenty.jpg|Studenti sklářské školy s ředitelem Josefem Khýnem před budovou školy, zcela vpravo [[Jiří Šuhájek]]\n",
      "Soubor:Josef Khýn - oslavy 130. výročí založení SUPŠS.jpg|Oslavy 130. výročí založení SUPŠS\n",
      "Soubor:KŠ SP2.JPG|Budova školy po rekonstrukci v roce 1993\n",
      "</gallery>\n",
      "\n",
      "== Odkazy ==\n",
      "\n",
      "=== Reference ===\n",
      "<references />\n",
      "\n",
      "=== Literatura ===\n",
      "* ''1. mezinárodní sympozium rytého skla = 1st international symposium of engraved glass: Kamenický Šenov 23.-29. září 1996: [sborník přednášek]''. 1,1996,sbor. [Kamenický Šenov: Sklářské muzeum. Kamenický Šenov, 1996]. 63 s. {{ISBN|80-238-1736-1}}.\n",
      "* Helena Braunová a Pavel Werner: ''Ein Stamm, Zwei Äste = Jeden kmen, dvě větve: Glasfachschule Steinschönau - Glasfachschule Rheinbach''. Rheinbach: Glasmuseumn Rheinbach, 1998. 11 s., obr. příl.\n",
      "* Vladimír Klein et al. ''130 let Střední uměleckoprůmyslové školy sklářské v Kamenickém Šenově 1856-1986: [jubilejní publikace]''. Kamenický Šenov: Střední uměleckoprůmyslová škola sklářská, 1986. [48] s.\n",
      "* Antonín Langhamer a Milan Hlaveš: ''Glass and light: 150 years of the Secondary School of Glassmaking in Kamenický Šenov: 1856-2006''. 1st ed. In Prague: Museum of Decorative Arts, 2006. 173 s. {{ISBN|80-7101-059-6}}.\n",
      "* Antonín Langhamer: ''Minulost a přítomnost sklářské školy v Kamenickém Šenově: 1856-2002''. Kamenický Šenov: Střední uměleckoprůmyslová škola sklářská, 2002. 125 s. {{ISBN|80-239-0030-7}}.\n",
      "* Antonín Langhamer a Vratislav Šotola: ''Sto deset let sklářské školy v Kamenickém Šenově: 1856-1966''. Kamenický Šenov: Střední průmyslová škola sklářská, 1966. [6] s., [38] s. obr. příl.\n",
      "* Antonín Langhamer a Milan Hlaveš: ''Sklo a světlo: 150 let sklářské školy v Kamenickém Šenově: 1856-2006''. Vyd. 1. V Praze: Uměleckoprůmyslové museum, 2006. 173 s. {{ISBN|80-7101-058-8}}.\n",
      "* [[René Roubíček]]: ''90 let nejstarší odborné sklářské školy v Kamenickém Šenově''. Kamenický Šenov: Sklářská škola v Kamenickém Šenově, [1946]. [13] s.\n",
      "* Střední uměleckoprůmyslová škola sklářská: ''Střední uměleckoprůmyslová škola sklářská: Kamenický Šenov 1856-1981''. Kamenický Šenov: Střední uměleckoprůmyslová škola sklářská, 1981. [24] s.\n",
      "\n",
      "=== Externí odkazy ===\n",
      "* {{Commonscat}}\n",
      "* [http://www.czech-glass-school.com/novinky.html?lang=cz web: Střední uměleckoprůmyslová škola sklářská Kamenický Šenov]\n",
      "* [https://cs.isabart.org/institution/11971 Informační systém abART: Střední průmyslová škola sklářská v Kamenickém Šenově (Odborná sklářská škola)]\n",
      "{{Autoritní data}}\n",
      "{{Portály|Česko|Kultura|Umění}}\n",
      "\n",
      "[[Kategorie:Střední průmyslové školy v Libereckém kraji]]\n",
      "[[Kategorie:Příspěvkové organizace Libereckého kraje]]\n",
      "[[Kategorie:Umělecké školy v Libereckém kraji]]\n",
      "[[Kategorie:Školy v okrese Česká Lípa]]\n",
      "[[Kategorie:Sklářské školy]]\n",
      "[[Kategorie:Kultura v Kamenickém Šenově]]\n",
      "[[Kategorie:Organizace v Kamenickém Šenově]]\n",
      "[[Kategorie:Stavby v Kamenickém Šenově]]\n",
      "[[Kategorie:Školy založené roku 1856]]...\n"
     ]
    }
   ],
   "execution_count": 17
  }
 ],
 "metadata": {
  "kernelspec": {
   "display_name": "Python 3",
   "language": "python",
   "name": "python3"
  },
  "language_info": {
   "codemirror_mode": {
    "name": "ipython",
    "version": 2
   },
   "file_extension": ".py",
   "mimetype": "text/x-python",
   "name": "python",
   "nbconvert_exporter": "python",
   "pygments_lexer": "ipython2",
   "version": "2.7.6"
  }
 },
 "nbformat": 4,
 "nbformat_minor": 5
}
